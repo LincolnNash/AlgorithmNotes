{
 "cells": [
  {
   "cell_type": "markdown",
   "metadata": {},
   "source": [
    "题目：数组中重复数字问题<br>\n",
    "地址：https://leetcode-cn.com/problems/shu-zu-zhong-zhong-fu-de-shu-zi-lcof/"
   ]
  },
  {
   "cell_type": "code",
   "execution_count": 7,
   "metadata": {},
   "outputs": [],
   "source": [
    "#利用字典\n",
    "class Solution0:\n",
    "    def findRepeatNumber(self, nums):\n",
    "        dic = {}\n",
    "        dup = set([])\n",
    "        for i in nums:\n",
    "            if i not in dic:\n",
    "                dic[i] = 1\n",
    "            else:\n",
    "                dup.add(i)\n",
    "        return list(dup)\n",
    "    \n",
    "#利用排序\n",
    "class Solution1:\n",
    "    def findRepeatNumber(self, nums):\n",
    "        nums.sort()\n",
    "        pre = 0\n",
    "        rear = 1\n",
    "        dup = set([])\n",
    "        while rear < len(nums):\n",
    "            if nums[pre] == nums[rear]:\n",
    "                dup.add(nums[pre])\n",
    "                rear += 1\n",
    "            else:\n",
    "                pre = rear\n",
    "                rear += 1\n",
    "        return list(dup)\n",
    "                    "
   ]
  },
  {
   "cell_type": "markdown",
   "metadata": {},
   "source": [
    "表面上看这是一个简单的问题，可是千万不要小看Hr的套路。它考察的是程序员的沟通能力，先问面试官要时间/空间需求！！！\n",
    "只是时间优先就用字典；空间优先，就用指针+原地排序数组。字典方法的时间复杂度O(n),空间复杂度O(n);排序方法的时间复杂度为O(nlog(n)), 空间复杂度为O(1);"
   ]
  }
 ],
 "metadata": {
  "kernelspec": {
   "display_name": "Python 3",
   "language": "python",
   "name": "python3"
  },
  "language_info": {
   "codemirror_mode": {
    "name": "ipython",
    "version": 3
   },
   "file_extension": ".py",
   "mimetype": "text/x-python",
   "name": "python",
   "nbconvert_exporter": "python",
   "pygments_lexer": "ipython3",
   "version": "3.7.6"
  }
 },
 "nbformat": 4,
 "nbformat_minor": 4
}
