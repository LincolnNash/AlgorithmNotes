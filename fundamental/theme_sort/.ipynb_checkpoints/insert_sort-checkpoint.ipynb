{
 "cells": [
  {
   "cell_type": "markdown",
   "metadata": {},
   "source": [
    "## 插入排序"
   ]
  },
  {
   "cell_type": "markdown",
   "metadata": {},
   "source": [
    "插入排序的思想很简单，比如打扑克牌的时候，手里的牌是排好序的（假如从左到右是升序），执行下面步骤（假装自己是个机器人）：\n",
    "* 1.从牌堆里获取新牌并放在最右端\n",
    "* 2.将新牌与紧靠它左端的牌做比较\n",
    "* 3.如果大于它左端的牌则执行步骤1\n",
    "* 4.如果小于它左端的牌则交换他们的位置并执行步骤2直到新牌到了最左端"
   ]
  },
  {
   "cell_type": "code",
   "execution_count": 13,
   "metadata": {},
   "outputs": [],
   "source": [
    "def insertSort(nums):\n",
    "    for i in range(1, len(nums)):\n",
    "        k = i\n",
    "        while(k>0):\n",
    "            if nums[k] < nums[k-1]:\n",
    "                temp = nums[k-1]\n",
    "                nums[k-1] = nums[k]\n",
    "                nums[k] = temp\n",
    "                k = k-1\n",
    "            else:\n",
    "                break\n",
    "    return nums"
   ]
  },
  {
   "cell_type": "code",
   "execution_count": 20,
   "metadata": {},
   "outputs": [
    {
     "name": "stdout",
     "output_type": "stream",
     "text": [
      "[1, 2, 2, 6, 7, 9]\n"
     ]
    }
   ],
   "source": [
    "print(insertSort([1,2,6,2,7,9]))"
   ]
  }
 ],
 "metadata": {
  "kernelspec": {
   "display_name": "Python 3",
   "language": "python",
   "name": "python3"
  },
  "language_info": {
   "codemirror_mode": {
    "name": "ipython",
    "version": 3
   },
   "file_extension": ".py",
   "mimetype": "text/x-python",
   "name": "python",
   "nbconvert_exporter": "python",
   "pygments_lexer": "ipython3",
   "version": "3.7.6"
  }
 },
 "nbformat": 4,
 "nbformat_minor": 2
}
