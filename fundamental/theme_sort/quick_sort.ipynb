{
 "cells": [
  {
   "cell_type": "markdown",
   "metadata": {},
   "source": [
    "# 快速排序"
   ]
  },
  {
   "cell_type": "markdown",
   "metadata": {},
   "source": [
    "快速排序是基于划分的排序方法，每次划分都使得一个元素在正确的排序位置上，元素左边都小于该元素的，右边都大于该元素（升序）"
   ]
  },
  {
   "cell_type": "code",
   "execution_count": 1,
   "metadata": {},
   "outputs": [],
   "source": [
    "def split(arr, i, j):             \n",
    "    tag = arr[i]                  \n",
    "    while i < j:                  \n",
    "        while arr[i] < tag:       \n",
    "            i += 1                \n",
    "        while arr[j] > tag:       \n",
    "            j -= 1                \n",
    "        temp = arr[i]             \n",
    "        arr[i] = arr[j]           \n",
    "        arr[j] = temp             \n",
    "    return i                      "
   ]
  },
  {
   "cell_type": "code",
   "execution_count": 2,
   "metadata": {},
   "outputs": [
    {
     "name": "stdout",
     "output_type": "stream",
     "text": [
      "[1, 3, 4, 9, 7, 2, 5]\n"
     ]
    }
   ],
   "source": [
    "a = [4,7,3,9,1,2,5]      \n",
    "i = split(a,0,4)         \n",
    "print(a)                 "
   ]
  },
  {
   "cell_type": "code",
   "execution_count": 3,
   "metadata": {},
   "outputs": [
    {
     "name": "stdout",
     "output_type": "stream",
     "text": [
      "[1, 2, 3, 4, 5, 7, 9]\n"
     ]
    }
   ],
   "source": [
    "def quickSort(arr,left, right):          \n",
    "    if left >= right:                    \n",
    "        return                           \n",
    "    f = split(arr, left, right)          \n",
    "    quickSort(arr, left, f-1)            \n",
    "    quickSort(arr, f+1, right)           \n",
    "                                         \n",
    "quickSort(a,0,6)                         \n",
    "print(a)                                 "
   ]
  },
  {
   "cell_type": "code",
   "execution_count": null,
   "metadata": {},
   "outputs": [],
   "source": []
  }
 ],
 "metadata": {
  "kernelspec": {
   "display_name": "Python 3",
   "language": "python",
   "name": "python3"
  },
  "language_info": {
   "codemirror_mode": {
    "name": "ipython",
    "version": 3
   },
   "file_extension": ".py",
   "mimetype": "text/x-python",
   "name": "python",
   "nbconvert_exporter": "python",
   "pygments_lexer": "ipython3",
   "version": "3.7.6"
  }
 },
 "nbformat": 4,
 "nbformat_minor": 2
}
