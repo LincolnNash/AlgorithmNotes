{
 "cells": [
  {
   "cell_type": "markdown",
   "metadata": {},
   "source": [
    "# 最长上升子序列"
   ]
  },
  {
   "cell_type": "markdown",
   "metadata": {},
   "source": [
    "题目地址：https://leetcode-cn.com/problems/longest-increasing-subsequence/"
   ]
  },
  {
   "cell_type": "code",
   "execution_count": 4,
   "metadata": {},
   "outputs": [],
   "source": [
    "class Solution:\n",
    "    def lengthOfLIS(nums):\n",
    "        if len(nums)<1:\n",
    "            return 0\n",
    "        #定义dp数组（非常重要）\n",
    "        dp = [0] * len(nums)\n",
    "        #初始状态\n",
    "        dp[0] = 1\n",
    "        #状态转移\n",
    "        for i in range(1, len(nums)):\n",
    "            longest = 1\n",
    "            for j in range(0, i):\n",
    "                if nums[j] < nums[i]:\n",
    "                    longest = max(longest, dp[j] + 1)\n",
    "            dp[i] = longest\n",
    "        return max(dp)"
   ]
  },
  {
   "cell_type": "markdown",
   "metadata": {},
   "source": [
    "动态规划的重点就是正确的定义状态，然后利用状态转移方程根据先前状态推导出当前状态。这些状态都存储在dp数组中。"
   ]
  },
  {
   "cell_type": "code",
   "execution_count": null,
   "metadata": {},
   "outputs": [],
   "source": []
  }
 ],
 "metadata": {
  "kernelspec": {
   "display_name": "Python 3",
   "language": "python",
   "name": "python3"
  },
  "language_info": {
   "codemirror_mode": {
    "name": "ipython",
    "version": 3
   },
   "file_extension": ".py",
   "mimetype": "text/x-python",
   "name": "python",
   "nbconvert_exporter": "python",
   "pygments_lexer": "ipython3",
   "version": "3.7.6"
  }
 },
 "nbformat": 4,
 "nbformat_minor": 4
}
