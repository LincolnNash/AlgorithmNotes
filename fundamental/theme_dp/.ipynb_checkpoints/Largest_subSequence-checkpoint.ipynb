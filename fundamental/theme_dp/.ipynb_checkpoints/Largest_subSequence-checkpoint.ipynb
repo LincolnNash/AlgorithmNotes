{
 "cells": [
  {
   "cell_type": "markdown",
   "metadata": {},
   "source": [
    "# 最大子序和"
   ]
  },
  {
   "cell_type": "markdown",
   "metadata": {},
   "source": [
    "题目地址：https://leetcode-cn.com/problems/maximum-subarray/"
   ]
  },
  {
   "cell_type": "code",
   "execution_count": null,
   "metadata": {},
   "outputs": [],
   "source": [
    "class Solution:\n",
    "    def maxSubArray(self, nums):\n",
    "        dp = [0]*len(nums)\n",
    "        dp[0] = nums[0]\n",
    "        for i in range(1,len(nums)):\n",
    "            if nums[i]>nums[i]+dp[i-1]:\n",
    "                dp[i] = nums[i]\n",
    "            else:\n",
    "                dp[i]=nums[i]+dp[i-1]\n",
    "        return max(dp)\n",
    "        "
   ]
  },
  {
   "cell_type": "markdown",
   "metadata": {},
   "source": [
    "首先我们定义dp数组的含义，也就是状态。假如我们定义dp\\[i\\]表示数组nums\\[0:i\\]的最大子序和，那么我们如何推导出dp\\[i+1\\]呢？因为不知道nums\\[i+1\\]是否和数组nums\\[0:i\\]的最大子序相邻，所以无法推出dp\\[i+1\\]。所以我们要换一个状态的定义。新的数加进来对最大子序和的影响是：也许新的数大于最大子序和、也许新的数和最大子序和相邻可以组成新的最大子序列。为了包含着两个信息，我们可以定义状态dp\\[i\\]为:以i为结尾的最大子序和。"
   ]
  }
 ],
 "metadata": {
  "kernelspec": {
   "display_name": "Python 3",
   "language": "python",
   "name": "python3"
  },
  "language_info": {
   "codemirror_mode": {
    "name": "ipython",
    "version": 3
   },
   "file_extension": ".py",
   "mimetype": "text/x-python",
   "name": "python",
   "nbconvert_exporter": "python",
   "pygments_lexer": "ipython3",
   "version": "3.7.6"
  }
 },
 "nbformat": 4,
 "nbformat_minor": 4
}
