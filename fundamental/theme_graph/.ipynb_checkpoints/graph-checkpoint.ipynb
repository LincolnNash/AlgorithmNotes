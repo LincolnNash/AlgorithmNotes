{
 "cells": [
  {
   "cell_type": "markdown",
   "metadata": {},
   "source": [
    "# 图"
   ]
  },
  {
   "cell_type": "markdown",
   "metadata": {},
   "source": [
    "## 1.图的抽象数据类型"
   ]
  },
  {
   "cell_type": "markdown",
   "metadata": {},
   "source": [
    "1.Graph()创建一个空<br>\n",
    "2.addVertex(vert)向图中添加一个顶点实例<br>\n",
    "3.addEdge(fromVert, toVert)向图中添加一条有向边用于链接顶点fromVert,toVert<br>\n",
    "4.addEdge(fromVert, toVert, weight)向图中添加一条带权重weight的有向边用于链接顶点fromVert,toVert<br>\n",
    "5.getVertex(vertKey)在图中找到名为vertKey的顶点<br>\n",
    "6.getVertices()以列表的形式返回图中的所有顶点。<br>\n",
    "7.通过in语句判断顶点是否存在"
   ]
  },
  {
   "cell_type": "markdown",
   "metadata": {},
   "source": [
    "## 2.图的实现"
   ]
  },
  {
   "cell_type": "markdown",
   "metadata": {},
   "source": [
    "1.邻接矩阵<br>\n",
    "2.邻接表"
   ]
  },
  {
   "cell_type": "markdown",
   "metadata": {},
   "source": [
    "### 2.1定义顶点"
   ]
  },
  {
   "cell_type": "code",
   "execution_count": 1,
   "metadata": {},
   "outputs": [],
   "source": [
    "class Vertex:\n",
    "    def __init__(self, key, color = \"white\", preNode = None, distance = None):\n",
    "        #顶点键\n",
    "        self.key = key\n",
    "        #邻接表(顶点：权重)\n",
    "        self.connectedTo = {}\n",
    "        #节点状态\n",
    "        self.color = color\n",
    "        #前驱节点\n",
    "        self.preNode = preNode\n",
    "        #与原点的距离\n",
    "        self.distance = distance\n",
    "        \n",
    "    def getKey(self):\n",
    "        return self.key\n",
    "        \n",
    "    def setColor(self, color):\n",
    "        self.color = color\n",
    "        \n",
    "    def getColor(self):\n",
    "        return self.color\n",
    "    \n",
    "    def setPreNode(self, node):\n",
    "        self.preNode = node\n",
    "        \n",
    "    def getPreNode(self):\n",
    "        return self.preNode\n",
    "    \n",
    "    def setDistance(self, distance):\n",
    "        self.distance = distance\n",
    "        \n",
    "    def getDistance(self):\n",
    "        return self.distance\n",
    "        \n",
    "    def __str__(self):\n",
    "        return str(self.key)+\"connectedTo\"+str([x.key for x in self.connectedTo])\n",
    "    \n",
    "    def addNeighbor(self, neighbor, weight):\n",
    "        self.connectedTo[neighbor] = weight\n",
    "        \n",
    "    def getConnections(self):\n",
    "        return self.connectedTo.keys()\n",
    "    \n",
    "    def getWeight(self, nbr):\n",
    "        return self.connectedTo[nbr]"
   ]
  },
  {
   "cell_type": "markdown",
   "metadata": {},
   "source": [
    "### 2.2定义图"
   ]
  },
  {
   "cell_type": "code",
   "execution_count": 2,
   "metadata": {},
   "outputs": [],
   "source": [
    "class Graph:\n",
    "    def __init__(self):\n",
    "        self.vertList = {}\n",
    "        self.numVertices = 0\n",
    "        \n",
    "    def __contains__(self, n):\n",
    "        return n in self.vertList\n",
    "    \n",
    "    def __iter__(self):\n",
    "        return iter(self.vertList.values())\n",
    "    \n",
    "    def addVertex(self, key):\n",
    "        vert = Vertex(key)\n",
    "        self.vertList[key] = vert\n",
    "        self.numVertices = self.numVertices+1\n",
    "        \n",
    "    def addEdge(self, f, t, cost=0):\n",
    "        if f not in self.vertList:\n",
    "            self.addVertex(f)\n",
    "        if t not in self.vertList:\n",
    "            self.addVertex(t)\n",
    "        self.vertList[f].addNeighbor(self.vertList[t], cost)\n",
    "        \n",
    "    def getVertex(self, n):\n",
    "        if n in self.vertList:\n",
    "            return self.vertList[n]\n",
    "        else:\n",
    "            return None\n",
    "        \n",
    "    def getVertices(self):\n",
    "        return self.vertList.keys()"
   ]
  },
  {
   "cell_type": "markdown",
   "metadata": {},
   "source": [
    "## 3.宽度优先搜索"
   ]
  },
  {
   "cell_type": "markdown",
   "metadata": {},
   "source": [
    "词梯问题"
   ]
  },
  {
   "cell_type": "markdown",
   "metadata": {},
   "source": [
    "### 3.1创建词桶"
   ]
  },
  {
   "cell_type": "code",
   "execution_count": 3,
   "metadata": {},
   "outputs": [],
   "source": [
    "def buildGraph(wordFile):\n",
    "    d = {}\n",
    "    graph = Graph()\n",
    "    #构建词桶\n",
    "    with open(wordFile, \"r\") as f:\n",
    "        for line in f:\n",
    "            word = line[:-1]\n",
    "            for i in range(len(word)):\n",
    "                bucket = word[0:i]+\"_\"+word[i+1:]\n",
    "                if bucket in d:\n",
    "                    d[bucket].append(word)\n",
    "                else:\n",
    "                    d[bucket] = [word]\n",
    "    #构建词图\n",
    "    for bucket in d.keys():\n",
    "        for word1 in d[bucket]:\n",
    "            for word2 in d[bucket]:\n",
    "                if word1 != word2:\n",
    "                    graph.addEdge(word1, word2)\n",
    "    return graph"
   ]
  },
  {
   "cell_type": "code",
   "execution_count": 4,
   "metadata": {},
   "outputs": [],
   "source": [
    "g = buildGraph(\"../data/wordfile.txt\")"
   ]
  },
  {
   "cell_type": "code",
   "execution_count": 5,
   "metadata": {},
   "outputs": [],
   "source": [
    "import queue\n",
    "def BFS(G, start):\n",
    "    start = G.getVertex(start)\n",
    "    #设置原点参数\n",
    "    start.setPreNode(None)\n",
    "    #设置节点距原点的距离\n",
    "    start.setDistance(0)\n",
    "    #节点队列\n",
    "    vertQueue = queue.Queue()\n",
    "    vertQueue.put(start)\n",
    "    while(vertQueue.qsize()>0):\n",
    "        currentVert = vertQueue.get()\n",
    "        print(currentVert.key)\n",
    "        for vert in currentVert.getConnections():\n",
    "            if vert.getColor() == \"white\":\n",
    "                vert.setColor(\"gray\")\n",
    "                vert.setPreNode(currentVert)\n",
    "                vert.setDistance(currentVert.getDistance()+1)\n",
    "                vertQueue.put(vert)\n",
    "        currentVert.setColor(\"black\")"
   ]
  },
  {
   "cell_type": "code",
   "execution_count": 6,
   "metadata": {},
   "outputs": [],
   "source": [
    "def DFS(G, start):\n",
    "    start = G.getVertex(start)\n",
    "    stack = [start]\n",
    "    while len(stack)>0:\n",
    "        currentVert = stack.pop()\n",
    "        print(currentVert.key)\n",
    "        for vert in currentVert.getConnections():\n",
    "            if vert.getColor() == \"white\":\n",
    "                vert.setColor(\"gray\")\n",
    "                vert.setPreNode(currentVert)\n",
    "                vert.setDistance(currentVert.getDistance()+1)\n",
    "                stack.append(vert)\n",
    "        currentVert.setColor(\"black\")"
   ]
  },
  {
   "cell_type": "code",
   "execution_count": 7,
   "metadata": {},
   "outputs": [
    {
     "name": "stdout",
     "output_type": "stream",
     "text": [
      "pool\n",
      "poll\n",
      "cool\n",
      "fool\n",
      "pall\n",
      "pole\n",
      "foul\n",
      "foil\n",
      "fall\n",
      "pale\n",
      "pope\n",
      "fail\n",
      "sale\n",
      "sage\n"
     ]
    }
   ],
   "source": [
    "BFS(g, \"pool\")"
   ]
  },
  {
   "cell_type": "code",
   "execution_count": 12,
   "metadata": {},
   "outputs": [
    {
     "name": "stdout",
     "output_type": "stream",
     "text": [
      "pool\n",
      "pollconnectedTo['pall', 'poll', 'pole', 'pool']\n",
      "poolconnectedTo['poll', 'pool', 'cool', 'fool']\n",
      "coolconnectedTo['pool', 'cool', 'fool']\n",
      "foolconnectedTo['pool', 'cool', 'fool', 'foul', 'foil']\n"
     ]
    }
   ],
   "source": [
    "DFS(g, \"pool\")"
   ]
  },
  {
   "cell_type": "code",
   "execution_count": 9,
   "metadata": {},
   "outputs": [
    {
     "name": "stdout",
     "output_type": "stream",
     "text": [
      "popeconnectedTo['pole', 'pope']\n",
      "3\n"
     ]
    }
   ],
   "source": [
    "#测试\n",
    "node = g.getVertex(\"pope\")\n",
    "print(node)\n",
    "print(node.getDistance())"
   ]
  },
  {
   "cell_type": "markdown",
   "metadata": {},
   "source": [
    "## 4.  骑士周游问题"
   ]
  },
  {
   "cell_type": "markdown",
   "metadata": {},
   "source": [
    "### 4.1问题建模"
   ]
  },
  {
   "cell_type": "code",
   "execution_count": 20,
   "metadata": {},
   "outputs": [],
   "source": [
    "#模拟骑士的移动规则\n",
    "def genLegalMoves(x, y, bdSize):\n",
    "    newPositions = []\n",
    "    moveOffsets = [(-1, -2), (-1, 2),(-2, -1),(-2, 1),(1, -2),(1, 2),(2, -1),(2, -1),(2, 1)]\n",
    "    for i in moveOffsets:\n",
    "        newx = x + i[0]\n",
    "        newy = y + i[1]\n",
    "        if legalPos(newx, bdSize) and legalPos(newy, bdSize):\n",
    "            newPositions.append((newx, newy))\n",
    "    return newPositions\n",
    "    \n",
    "def legalPos(x, bdSize):\n",
    "    if x>=0 and x<bdSize:\n",
    "        return True\n",
    "    else:\n",
    "        return False"
   ]
  },
  {
   "cell_type": "code",
   "execution_count": 25,
   "metadata": {},
   "outputs": [],
   "source": [
    "#用图数据结构对问题建模\n",
    "def knightGraph(bdSize):\n",
    "    ktGraph = Graph()\n",
    "    for i in range(bdSize):\n",
    "        for j in range(bdSize):\n",
    "            newPositions = genLegalMoves(i, j, bdSize)\n",
    "            for p in newPositions:\n",
    "                ktGraph.addEdge((i,j), p)\n",
    "    return ktGraph"
   ]
  },
  {
   "cell_type": "code",
   "execution_count": 26,
   "metadata": {},
   "outputs": [],
   "source": [
    "ktGraph = knightGraph(8)"
   ]
  },
  {
   "cell_type": "code",
   "execution_count": 28,
   "metadata": {},
   "outputs": [
    {
     "name": "stdout",
     "output_type": "stream",
     "text": [
      "(3, 3)connectedTo[(2, 1), (2, 5), (1, 2), (1, 4), (4, 1), (4, 5), (5, 2), (5, 4)]\n"
     ]
    }
   ],
   "source": [
    "#测试\n",
    "node = ktGraph.getVertex((3,3))\n",
    "print(node)"
   ]
  },
  {
   "cell_type": "markdown",
   "metadata": {},
   "source": [
    "### 4.2 深度优先搜索实现骑士周游"
   ]
  },
  {
   "cell_type": "code",
   "execution_count": null,
   "metadata": {},
   "outputs": [],
   "source": [
    "def knightTour():\n",
    "    "
   ]
  }
 ],
 "metadata": {
  "kernelspec": {
   "display_name": "Python 3",
   "language": "python",
   "name": "python3"
  },
  "language_info": {
   "codemirror_mode": {
    "name": "ipython",
    "version": 3
   },
   "file_extension": ".py",
   "mimetype": "text/x-python",
   "name": "python",
   "nbconvert_exporter": "python",
   "pygments_lexer": "ipython3",
   "version": "3.7.6"
  }
 },
 "nbformat": 4,
 "nbformat_minor": 4
}
