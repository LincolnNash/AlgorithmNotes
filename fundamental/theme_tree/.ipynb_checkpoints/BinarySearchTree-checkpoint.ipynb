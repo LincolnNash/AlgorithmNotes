{
 "cells": [
  {
   "cell_type": "markdown",
   "metadata": {},
   "source": [
    "# 二叉树搜索树"
   ]
  },
  {
   "cell_type": "markdown",
   "metadata": {},
   "source": [
    "## 2.搜索树的实现"
   ]
  },
  {
   "cell_type": "code",
   "execution_count": 1,
   "metadata": {},
   "outputs": [],
   "source": [
    "class BinarySearchTree:                                                            \n",
    "    def __init__(self):                                                            \n",
    "        self.root = None                                                           \n",
    "        self.size = 0 \n",
    "        \n",
    "    def length(self):                                                              \n",
    "        return self.size \n",
    "    \n",
    "    def __len__(self):                                                             \n",
    "        return self.size\n",
    "    \n",
    "    def __iter__(self):                                                            \n",
    "        print(\"__iter__\")                                                          \n",
    "        return self.root.__iter__()  \n",
    "    \n",
    "    def __setitem__(self, key, val):\n",
    "        self.put(key, val)\n",
    "    \n",
    "    def __getitem__(self, key):\n",
    "        return self.get(key)\n",
    "    \n",
    "    def __delitem__(self, key):\n",
    "        self.delete(key)\n",
    "    \n",
    "    def __contains__(self, key):\n",
    "        if self._get(key, self.root):\n",
    "            return True\n",
    "        else:\n",
    "            return False\n",
    "    \n",
    "    # 为二叉搜索树添加节点                                                                   \n",
    "    def put(self, key, val):                                                       \n",
    "        if self.root:                                                              \n",
    "            self._put(key, val, self.root)                                         \n",
    "        else:                                                                      \n",
    "            self.root = TreeNode(key, val)                                         \n",
    "        self.size += 1      \n",
    "    \n",
    "    #迭代法                                                                           \n",
    "    def _put(self, key, val, currentNode):                                         \n",
    "        while True:                                                                \n",
    "            if key < currentNode.key:                                                                                                            \n",
    "                if currentNode.leftChild != None:                                  \n",
    "                    currentNode = currentNode.leftChild                            \n",
    "                else:                                                              \n",
    "                    currentNode.leftChild = TreeNode(key, val, parent=currentNode) \n",
    "                    break \n",
    "            else:                                                                  \n",
    "                if currentNode.rightChild != None:                                 \n",
    "                    currentNode = currentNode.rightChild                           \n",
    "                else:                                                              \n",
    "                    currentNode.rightChild = TreeNode(key, val, parent=currentNode)\n",
    "                    break  \n",
    "    \n",
    "    # 递归方法                                                                         \n",
    "    # def _put(self, key, val, currentNode):                                       \n",
    "    #     if key < currentNode.key:                                                \n",
    "    #         if currentNode.getLeftChild():                                       \n",
    "    #             self._put(key, val, currentNode.leftChild)                       \n",
    "    #         else:                                                                \n",
    "    #             currentNode.leftChild = TreeNode(key, val, parent=currentNode)   \n",
    "    #     else:                                                                    \n",
    "    #         if currentNode.getRightChild():                                      \n",
    "    #             self._put(key, val, currentNode.rightChild)                      \n",
    "    #         else:                                                                \n",
    "    #             currentNode.rightChild = TreeNode(key, val, parent=currentNode) \n",
    "    def get(self, key):\n",
    "        if self.root:\n",
    "            r = self._get(key, self.root)\n",
    "            if r:\n",
    "                return r.val\n",
    "            else:\n",
    "                return None\n",
    "        else:\n",
    "            return None\n",
    "    #递归方法  \n",
    "    def _get(self, key, currentNode):\n",
    "        if currentNode is None:\n",
    "            return None\n",
    "        if currentNode.key == key:\n",
    "            return currentNode\n",
    "        if key < currentNode.key:\n",
    "            return self._get(key, currentNode.leftChild)\n",
    "        else:\n",
    "            return self._get(key, currentNode.rightChild)\n",
    "        \n",
    "    #删除操作\n",
    "    def delete(self, key):\n",
    "        if self.size >1:\n",
    "            nodeToRemove = self._get(key, self.root)\n",
    "            if nodeToRemove:\n",
    "                self.remove(nodeToRemove)\n",
    "                self.size -= 1\n",
    "            else:\n",
    "                raise KeyError(\"Error! key is not in tree\")\n",
    "        elif self.size == 1 and key==self.root.key:\n",
    "            self.root = None\n",
    "            self.size = 0\n",
    "        else:\n",
    "            raise KeyError(\"Error! key is not in tree\")\n",
    "            \n",
    "    def remove(self, currentNode):\n",
    "        #被删除节点为叶子节点\n",
    "        if currentNode.isLeaf():\n",
    "            if currentNode.isRightChild():\n",
    "                currentNode.parent.rightChild = None\n",
    "            else:\n",
    "                currentNode.parent.leftChild = None\n",
    "                \n",
    "        #被删除节点有两个子节点\n",
    "        elif currentNode.hasBothChildren():\n",
    "            successor = self.findSuccessor(currentNode)\n",
    "            currentNode.key = successor.key\n",
    "            currentNode.val = successor.val\n",
    "            if currentNode.rightChild == successor: #如果继承节点是被删除节点的右孩子\n",
    "                currentNode.rightChild = successor.rightChild\n",
    "                if successor.rightChild != None:\n",
    "                    successor.parent = currentNode\n",
    "            else:\n",
    "                successor.parent.leftChild = successor.rightChild\n",
    "                if successor.rightChild != None:\n",
    "                    successor.rightChild.parent = successor.parent\n",
    "        \n",
    "        #被删除节点有一个子节点\n",
    "        else:\n",
    "            if currentNode.isLeftChild(): #当前节点是左节点\n",
    "                if currentNode.leftChild: #当前节点有左节点\n",
    "                    currentNode.leftChild.parent = currentNode.parent\n",
    "                    currentNode.parent.leftChild = currentNode.leftChild\n",
    "                else:  #当前节点有右节点\n",
    "                    currentNode.rightChild.parent = currentNode.parent\n",
    "                    currentNode.parent.leftChild = currentNode.rightChild\n",
    "            elif currentNode.isRightChild(): #当前节点是右节点\n",
    "                if currentNode.leftChild: #当前节点有左节点\n",
    "                    currentNode.leftChild.parent = currentNode.parent\n",
    "                    currentNode.parent.rightChild = currentNode.leftChild\n",
    "                else:  #当前节点有右节点\n",
    "                    currentNode.rightChild.parent = currentNode.parent\n",
    "                    currentNode.parent.rightChild = currentNode.rightChild\n",
    "            else: #当前节点是根节点\n",
    "                if currentNode.leftChild: #当前节点有左节点\n",
    "                    self.root = currentNode.leftChild\n",
    "                    self.root.parent = None\n",
    "                else: #当前节点有右节点\n",
    "                    self.root = currentNode.rightChild\n",
    "                    self.root.parent = None\n",
    "                    \n",
    "    def findSuccessor(self, currentNode):\n",
    "        successor = currentNode.rightChild\n",
    "        while True:\n",
    "            if successor.leftChild is not None:\n",
    "                successor = successor.leftChild\n",
    "            else:\n",
    "                break\n",
    "        return successor\n",
    "                    \n",
    "                "
   ]
  },
  {
   "cell_type": "code",
   "execution_count": 2,
   "metadata": {},
   "outputs": [],
   "source": [
    "class TreeNode:\n",
    "    def __init__(self, key, val, left = None, right=None, parent=None):\n",
    "        self.key=key\n",
    "        self.val = val\n",
    "        self.leftChild = left \n",
    "        self.rightChild = right\n",
    "        self.parent = parent \n",
    "    #获取左孩子\n",
    "    def getLeftChild(self):\n",
    "        return self.leftChild\n",
    "    #获取右孩子\n",
    "    def getRightChild(self):\n",
    "        return self.rightChild\n",
    "    #判断该节点是否为左节点\n",
    "    def isLeftChild(self):\n",
    "        return self.parent and self.parent.leftChild == self\n",
    "    #判断该节点是否为右节点\n",
    "    def isRightChild(self):\n",
    "        return self.parent and self.parent.rightChild == self\n",
    "    #该节点是否为根节点\n",
    "    def isRoot(self):\n",
    "        return not self.parent\n",
    "    #判断该节点是否为叶子叶子节点\n",
    "    def isLeaf(self):\n",
    "        return not (self.leftChild or self.rightChild)\n",
    "    #是否有两个节点\n",
    "    def hasBothChildren(self):\n",
    "        return self.leftChild and self.rightChild"
   ]
  },
  {
   "cell_type": "code",
   "execution_count": 3,
   "metadata": {},
   "outputs": [],
   "source": [
    "#前序遍历二叉树\n",
    "def preTrav(node):             \n",
    "    if node == None:           \n",
    "        return                 \n",
    "    else:                      \n",
    "        print(node.key)        \n",
    "    preTrav(node.leftChild)    \n",
    "    preTrav(node.rightChild)   \n",
    "    return                            "
   ]
  },
  {
   "cell_type": "code",
   "execution_count": 4,
   "metadata": {},
   "outputs": [
    {
     "name": "stdout",
     "output_type": "stream",
     "text": [
      "70\n",
      "31\n",
      "14\n",
      "23\n",
      "93\n",
      "73\n",
      "94\n"
     ]
    }
   ],
   "source": [
    "a = [70,31,93,94,14,23,73]     \n",
    "t = BinarySearchTree()         \n",
    "for i in a:                    \n",
    "    t.put(i,0)                 \n",
    "preTrav(t.root)  "
   ]
  },
  {
   "cell_type": "code",
   "execution_count": 5,
   "metadata": {},
   "outputs": [
    {
     "name": "stdout",
     "output_type": "stream",
     "text": [
      "70\n",
      "31\n",
      "14\n",
      "23\n",
      "93\n",
      "73\n",
      "94\n"
     ]
    }
   ],
   "source": [
    "#t.put(i,0)的方法不够优美，我们可不可以用对列表赋值的写法t[i] = 0?\n",
    "#可以的，我们需要实现BinarySearchTree类的__setitem__()方法用该方法调用put方法\n",
    "#这样使得我们自己实现的数据结构，就像python内置的数据结构一样自然\n",
    "#这就是python的优美之处啊！！！\n",
    "a = [70,31,93,94,14,23,73]     \n",
    "t1 = BinarySearchTree()         \n",
    "for i in a:                    \n",
    "    t1[i]=i+1                 \n",
    "preTrav(t1.root)  "
   ]
  },
  {
   "cell_type": "markdown",
   "metadata": {},
   "source": [
    "上面我们实现了二叉搜索树的赋值操作，下面实现取值操作"
   ]
  },
  {
   "cell_type": "code",
   "execution_count": 6,
   "metadata": {},
   "outputs": [
    {
     "name": "stdout",
     "output_type": "stream",
     "text": [
      "95\n",
      "None\n"
     ]
    }
   ],
   "source": [
    "#类似设置二叉搜索树值，我们使用__getitem__()、get()、_get()方法来实现。\n",
    "print(t1[94])\n",
    "print(t1[100])"
   ]
  },
  {
   "cell_type": "markdown",
   "metadata": {},
   "source": [
    "接下来我们实现检查树中是否存在某个键，这个方法和get()方法类似，只要将get()方法返回值，则返回True，get()方法返回None时，返回false。"
   ]
  },
  {
   "cell_type": "code",
   "execution_count": 7,
   "metadata": {},
   "outputs": [
    {
     "name": "stdout",
     "output_type": "stream",
     "text": [
      "yes!\n"
     ]
    }
   ],
   "source": [
    "#实现该功能，BinarySearchTree类要实现__contains__方法，该方法直接调用_get()方法，\n",
    "a = 94 \n",
    "if a in t1:\n",
    "    print(\"yes!\")"
   ]
  },
  {
   "cell_type": "markdown",
   "metadata": {},
   "source": [
    "该数据结构最具挑战性的是删除操作，前面我们实现的操作是基于插入、查找的。插入操作是向树结构中添加元素；查找不需要对现有结构改变；删除操作基于查找操作而且需要考虑被删除元素的子树，元素被删后还要保持二叉搜索树的性质。我们将删除操作分为3种情况：<br>\n",
    "(1)二叉搜索树节点数小于1<br>\n",
    "(2)二叉搜索树节点树等于1<br>\n",
    "(3)二叉搜索树节点树大于1<br>\n",
    "第(3)种情况又被分为三种情况：<br>\n",
    "(1被删除节点为叶子节点<br>\n",
    "(2被删除节点只有一个子节点<br>\n",
    "(3被删除节点有两个子节点<br>\n",
    "对于有两个子节点的待删除节点被删除后怎么找到替代它的节点以保持二叉搜索树的性质呢？我们可以使用次大于被删除节点键的节点作为新的节点，那么我们就可以使用中序遍历待删除节点的右子树的第一个元素作为新的节点，而且这个节点的子树个数必定不大于1。<br>\n",
    "具体实现参考delete()等函数。"
   ]
  },
  {
   "cell_type": "code",
   "execution_count": 8,
   "metadata": {},
   "outputs": [
    {
     "name": "stdout",
     "output_type": "stream",
     "text": [
      "73\n",
      "31\n",
      "14\n",
      "23\n",
      "93\n",
      "94\n"
     ]
    }
   ],
   "source": [
    "t1.delete(70)\n",
    "preTrav(t1.root)  "
   ]
  },
  {
   "cell_type": "code",
   "execution_count": 9,
   "metadata": {},
   "outputs": [
    {
     "name": "stdout",
     "output_type": "stream",
     "text": [
      "73\n",
      "31\n",
      "14\n",
      "93\n",
      "94\n"
     ]
    }
   ],
   "source": [
    "t1.delete(23)\n",
    "preTrav(t1.root)  "
   ]
  },
  {
   "cell_type": "code",
   "execution_count": 10,
   "metadata": {},
   "outputs": [
    {
     "name": "stdout",
     "output_type": "stream",
     "text": [
      "73\n",
      "14\n",
      "93\n",
      "94\n"
     ]
    }
   ],
   "source": [
    "t1.delete(31)\n",
    "preTrav(t1.root)  "
   ]
  },
  {
   "cell_type": "code",
   "execution_count": 11,
   "metadata": {},
   "outputs": [
    {
     "name": "stdout",
     "output_type": "stream",
     "text": [
      "73\n",
      "14\n",
      "94\n"
     ]
    }
   ],
   "source": [
    "t1.delete(93)\n",
    "preTrav(t1.root)  "
   ]
  },
  {
   "cell_type": "code",
   "execution_count": 12,
   "metadata": {},
   "outputs": [
    {
     "name": "stdout",
     "output_type": "stream",
     "text": [
      "73\n",
      "14\n"
     ]
    }
   ],
   "source": [
    "t1.delete(94)\n",
    "preTrav(t1.root)  "
   ]
  },
  {
   "cell_type": "code",
   "execution_count": 13,
   "metadata": {},
   "outputs": [
    {
     "name": "stdout",
     "output_type": "stream",
     "text": [
      "94\n",
      "14\n"
     ]
    }
   ],
   "source": [
    "t1[94] = 94\n",
    "t1.delete(73)\n",
    "preTrav(t1.root)  "
   ]
  },
  {
   "cell_type": "code",
   "execution_count": null,
   "metadata": {},
   "outputs": [],
   "source": []
  }
 ],
 "metadata": {
  "kernelspec": {
   "display_name": "Python 3",
   "language": "python",
   "name": "python3"
  },
  "language_info": {
   "codemirror_mode": {
    "name": "ipython",
    "version": 3
   },
   "file_extension": ".py",
   "mimetype": "text/x-python",
   "name": "python",
   "nbconvert_exporter": "python",
   "pygments_lexer": "ipython3",
   "version": "3.7.6"
  }
 },
 "nbformat": 4,
 "nbformat_minor": 4
}
